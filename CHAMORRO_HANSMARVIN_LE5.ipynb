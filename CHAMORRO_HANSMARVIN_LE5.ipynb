{
 "cells": [
  {
   "cell_type": "markdown",
   "id": "db1c2abc",
   "metadata": {},
   "source": [
    "Chamorro, Hans Marvin N.\n",
    "2022104306"
   ]
  },
  {
   "cell_type": "code",
   "execution_count": 12,
   "id": "e6664d88",
   "metadata": {},
   "outputs": [
    {
     "name": "stdout",
     "output_type": "stream",
     "text": [
      ">>> secret_word = 'banana'\n",
      ">>> letters_guessed = ['a', 'i', 'k', 'p', 'r', 's']\n",
      ">>> letters_guessed = False\n",
      ">>> secret_word = 'banana'\n",
      ">>> letters_guessed = ['a', 'i', 'k', 'p', 'r', 's']\n",
      ">>> letters_guessed = _ a_ a_ a\n",
      ">>> secret_word = 'banana'\n",
      ">>> letters_guessed = ['a', 'i', 'k', 'p', 'r', 's']\n",
      ">>> letters_guessed = bcdefghjlmnoqtuvwxyz\n"
     ]
    }
   ],
   "source": [
    "import string\n",
    "\n",
    "def is_word_guessed(secret_word, letters_guessed):\n",
    "    for l in secret_word:\n",
    "        flag = 0\n",
    "        for l2 in letters_guessed:\n",
    "            if l == l2:\n",
    "                flag = 1\n",
    "        if flag == 0:\n",
    "            return False\n",
    "    return True\n",
    "\n",
    "def get_guessed_word(secret_word, letters_guessed):\n",
    "    s = \"\"\n",
    "    for l in secret_word:\n",
    "        flag = 0\n",
    "        for l2 in letters_guessed:\n",
    "            if l == l2:\n",
    "                flag = 1\n",
    "        if flag == 0:\n",
    "            s += \"_ \"\n",
    "        else:\n",
    "            s += l\n",
    "    return s\n",
    "\n",
    "def get_available_letters(letters_guessed):\n",
    "    s = string.ascii_lowercase\n",
    "    s1 = \"\"\n",
    "    for l in s:\n",
    "        flag = 0\n",
    "        for l2 in letters_guessed:\n",
    "            if(l == l2):\n",
    "                flag = 1\n",
    "        if flag == 0:\n",
    "            s1 += l\n",
    "    return s1\n",
    "\n",
    "secret_word = 'banana'\n",
    "letters_guessed = ['a', 'i', 'k', 'p', 'r', 's']\n",
    "\n",
    "print(f\">>> secret_word = '{secret_word}'\")\n",
    "print(f\">>> letters_guessed = {letters_guessed}\")\n",
    "print(f\">>> letters_guessed = {is_word_guessed(secret_word, letters_guessed)}\")\n",
    "\n",
    "print(f\">>> secret_word = '{secret_word}'\")\n",
    "print(f\">>> letters_guessed = {letters_guessed}\")\n",
    "print(f\">>> letters_guessed = {get_guessed_word(secret_word, letters_guessed)}\")\n",
    "\n",
    "print(f\">>> secret_word = '{secret_word}'\")\n",
    "print(f\">>> letters_guessed = {letters_guessed}\")\n",
    "print(f\">>> letters_guessed = {get_available_letters(letters_guessed)}\")"
   ]
  },
  {
   "cell_type": "code",
   "execution_count": null,
   "id": "711b4452",
   "metadata": {},
   "outputs": [],
   "source": []
  }
 ],
 "metadata": {
  "kernelspec": {
   "display_name": "Python 3 (ipykernel)",
   "language": "python",
   "name": "python3"
  },
  "language_info": {
   "codemirror_mode": {
    "name": "ipython",
    "version": 3
   },
   "file_extension": ".py",
   "mimetype": "text/x-python",
   "name": "python",
   "nbconvert_exporter": "python",
   "pygments_lexer": "ipython3",
   "version": "3.9.13"
  }
 },
 "nbformat": 4,
 "nbformat_minor": 5
}

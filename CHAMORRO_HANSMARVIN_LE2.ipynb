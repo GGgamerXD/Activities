{
 "cells": [
  {
   "cell_type": "code",
   "execution_count": 13,
   "id": "f8851fb9",
   "metadata": {},
   "outputs": [
    {
     "name": "stdout",
     "output_type": "stream",
     "text": [
      "Enter your annual salary:100000\n",
      "Enter the percent of your salary to save, as a decimal:0.1\n",
      "Enter the cost of your dream home:120000\n",
      "Number of months: 33\n"
     ]
    }
   ],
   "source": [
    "annual_salary = float(input('Enter your annual salary:'))\n",
    "portion_saved = float(input('Enter the percent of your salary to save, as a decimal:'))\n",
    "total_cost = float(input('Enter the cost of your dream home:'))\n",
    "\n",
    "current_savings = 0\n",
    "portion_down_payment = 0.25 * total_cost\n",
    "r = 0.07\n",
    "monthly_salary = annual_salary/12\n",
    "portion_saved = portion_saved*monthly_salary \n",
    "Time = 0\n",
    "\n",
    "while (current_savings<=portion_down_payment):\n",
    "    Time +=1\n",
    "    current_savings+=(current_savings * r/12)+portion_saved    \n",
    "print('Number of months:', Time)"
   ]
  },
  {
   "cell_type": "code",
   "execution_count": null,
   "id": "4bb7f87e",
   "metadata": {},
   "outputs": [],
   "source": []
  }
 ],
 "metadata": {
  "kernelspec": {
   "display_name": "Python 3 (ipykernel)",
   "language": "python",
   "name": "python3"
  },
  "language_info": {
   "codemirror_mode": {
    "name": "ipython",
    "version": 3
   },
   "file_extension": ".py",
   "mimetype": "text/x-python",
   "name": "python",
   "nbconvert_exporter": "python",
   "pygments_lexer": "ipython3",
   "version": "3.9.13"
  }
 },
 "nbformat": 4,
 "nbformat_minor": 5
}

{
 "cells": [
  {
   "cell_type": "code",
   "execution_count": 3,
   "id": "b2d36caf",
   "metadata": {},
   "outputs": [
    {
     "name": "stdout",
     "output_type": "stream",
     "text": [
      "Chamorro, Hans Marvin N.\n"
     ]
    }
   ],
   "source": [
    "#write your name here (LastName, First Name, MI) \n",
    "print(\"Chamorro, Hans Marvin N.\")"
   ]
  },
  {
   "cell_type": "markdown",
   "id": "5b286b1b",
   "metadata": {},
   "source": [
    "## Linear Regression\n",
    "##### DS119 - Exploratory Data Analysis"
   ]
  },
  {
   "cell_type": "markdown",
   "id": "63fa6239",
   "metadata": {},
   "source": [
    "Regression analysis is a statistical process used to estimate the relationships between the dependent variable and one or more independent variables. Regression analysis is mostly used for prediction and forecasting which overlaps with machine learning. In this task we will experiment some linear regression use case.\n",
    "\n",
    "The objective of LinearRegression is to fit a linear model to the dataset by adjusting a set of parameters in order to make the sum of the squared residuals of the model as small as possible.\n",
    "\n",
    "A linear model is defined by: y = a + bx, where y is the target variable, X is the data, a and b represent the coefficients.\n",
    "\n",
    "In this lesson, we will be working with the Iris dataset. "
   ]
  },
  {
   "cell_type": "markdown",
   "id": "f8c6931a",
   "metadata": {},
   "source": [
    "The Iris flower data set is a multivariate data set used and made famous by the British statistician and biologist Ronald Fisher. \n",
    "\n",
    "The data set consists of three species of Iris (Iris setosa, Iris virginica and Iris versicolor). Four features were measured from each sample: the length and the width of the sepals and petals, in centimeters. Based on the combination of these four features, we try to develop a linear discriminant model to distinguish the species from each other. "
   ]
  },
  {
   "cell_type": "code",
   "execution_count": 4,
   "id": "a31bf8d9",
   "metadata": {},
   "outputs": [],
   "source": [
    "import pandas as pd\n",
    "import numpy as np\n",
    "import matplotlib.pyplot as plt\n",
    "from sklearn.datasets import load_iris"
   ]
  },
  {
   "cell_type": "markdown",
   "id": "71589d57",
   "metadata": {},
   "source": [
    "#### Load the data"
   ]
  },
  {
   "cell_type": "code",
   "execution_count": 5,
   "id": "3c8419d9",
   "metadata": {
    "scrolled": true
   },
   "outputs": [
    {
     "data": {
      "text/html": [
       "<div>\n",
       "<style scoped>\n",
       "    .dataframe tbody tr th:only-of-type {\n",
       "        vertical-align: middle;\n",
       "    }\n",
       "\n",
       "    .dataframe tbody tr th {\n",
       "        vertical-align: top;\n",
       "    }\n",
       "\n",
       "    .dataframe thead th {\n",
       "        text-align: right;\n",
       "    }\n",
       "</style>\n",
       "<table border=\"1\" class=\"dataframe\">\n",
       "  <thead>\n",
       "    <tr style=\"text-align: right;\">\n",
       "      <th></th>\n",
       "      <th>5.1</th>\n",
       "      <th>3.5</th>\n",
       "      <th>1.4</th>\n",
       "      <th>0.2</th>\n",
       "      <th>Iris-setosa</th>\n",
       "    </tr>\n",
       "  </thead>\n",
       "  <tbody>\n",
       "    <tr>\n",
       "      <th>0</th>\n",
       "      <td>4.9</td>\n",
       "      <td>3.0</td>\n",
       "      <td>1.4</td>\n",
       "      <td>0.2</td>\n",
       "      <td>Iris-setosa</td>\n",
       "    </tr>\n",
       "    <tr>\n",
       "      <th>1</th>\n",
       "      <td>4.7</td>\n",
       "      <td>3.2</td>\n",
       "      <td>1.3</td>\n",
       "      <td>0.2</td>\n",
       "      <td>Iris-setosa</td>\n",
       "    </tr>\n",
       "    <tr>\n",
       "      <th>2</th>\n",
       "      <td>4.6</td>\n",
       "      <td>3.1</td>\n",
       "      <td>1.5</td>\n",
       "      <td>0.2</td>\n",
       "      <td>Iris-setosa</td>\n",
       "    </tr>\n",
       "    <tr>\n",
       "      <th>3</th>\n",
       "      <td>5.0</td>\n",
       "      <td>3.6</td>\n",
       "      <td>1.4</td>\n",
       "      <td>0.2</td>\n",
       "      <td>Iris-setosa</td>\n",
       "    </tr>\n",
       "    <tr>\n",
       "      <th>4</th>\n",
       "      <td>5.4</td>\n",
       "      <td>3.9</td>\n",
       "      <td>1.7</td>\n",
       "      <td>0.4</td>\n",
       "      <td>Iris-setosa</td>\n",
       "    </tr>\n",
       "  </tbody>\n",
       "</table>\n",
       "</div>"
      ],
      "text/plain": [
       "   5.1  3.5  1.4  0.2  Iris-setosa\n",
       "0  4.9  3.0  1.4  0.2  Iris-setosa\n",
       "1  4.7  3.2  1.3  0.2  Iris-setosa\n",
       "2  4.6  3.1  1.5  0.2  Iris-setosa\n",
       "3  5.0  3.6  1.4  0.2  Iris-setosa\n",
       "4  5.4  3.9  1.7  0.4  Iris-setosa"
      ]
     },
     "execution_count": 5,
     "metadata": {},
     "output_type": "execute_result"
    }
   ],
   "source": [
    "iris_df = pd.read_csv('iris.data')\n",
    "iris_df.head()"
   ]
  },
  {
   "cell_type": "code",
   "execution_count": 6,
   "id": "5cb77e6a",
   "metadata": {},
   "outputs": [
    {
     "data": {
      "text/plain": [
       "['sepal length (cm)',\n",
       " 'sepal width (cm)',\n",
       " 'petal length (cm)',\n",
       " 'petal width (cm)']"
      ]
     },
     "execution_count": 6,
     "metadata": {},
     "output_type": "execute_result"
    }
   ],
   "source": [
    "data = load_iris() \n",
    "data.feature_names #feature can be referred to as column but is a term that refers to independents var"
   ]
  },
  {
   "cell_type": "code",
   "execution_count": 7,
   "id": "86d13d2f",
   "metadata": {},
   "outputs": [
    {
     "data": {
      "text/plain": [
       "array(['setosa', 'versicolor', 'virginica'], dtype='<U10')"
      ]
     },
     "execution_count": 7,
     "metadata": {},
     "output_type": "execute_result"
    }
   ],
   "source": [
    "data.target_names #and over here we have names of species or our target, the  dependent values."
   ]
  },
  {
   "cell_type": "code",
   "execution_count": 8,
   "id": "aa86472f",
   "metadata": {},
   "outputs": [
    {
     "data": {
      "text/plain": [
       "array([0, 0, 0, 0, 0, 0, 0, 0, 0, 0, 0, 0, 0, 0, 0, 0, 0, 0, 0, 0, 0, 0,\n",
       "       0, 0, 0, 0, 0, 0, 0, 0, 0, 0, 0, 0, 0, 0, 0, 0, 0, 0, 0, 0, 0, 0,\n",
       "       0, 0, 0, 0, 0, 0, 1, 1, 1, 1, 1, 1, 1, 1, 1, 1, 1, 1, 1, 1, 1, 1,\n",
       "       1, 1, 1, 1, 1, 1, 1, 1, 1, 1, 1, 1, 1, 1, 1, 1, 1, 1, 1, 1, 1, 1,\n",
       "       1, 1, 1, 1, 1, 1, 1, 1, 1, 1, 1, 1, 2, 2, 2, 2, 2, 2, 2, 2, 2, 2,\n",
       "       2, 2, 2, 2, 2, 2, 2, 2, 2, 2, 2, 2, 2, 2, 2, 2, 2, 2, 2, 2, 2, 2,\n",
       "       2, 2, 2, 2, 2, 2, 2, 2, 2, 2, 2, 2, 2, 2, 2, 2, 2, 2])"
      ]
     },
     "execution_count": 8,
     "metadata": {},
     "output_type": "execute_result"
    }
   ],
   "source": [
    "data.target # over here we see that by calling target on the dataset we get the number representations\n",
    "            # or dummy representatives of the values in the dependent column"
   ]
  },
  {
   "cell_type": "code",
   "execution_count": 9,
   "id": "6723e9f8",
   "metadata": {},
   "outputs": [
    {
     "data": {
      "text/plain": [
       "(150, 4)"
      ]
     },
     "execution_count": 9,
     "metadata": {},
     "output_type": "execute_result"
    }
   ],
   "source": [
    "X = data.data #data basically refers to the values in the independent columns\n",
    "X.shape      #check the shape"
   ]
  },
  {
   "cell_type": "code",
   "execution_count": 10,
   "id": "4b363462",
   "metadata": {},
   "outputs": [
    {
     "data": {
      "text/plain": [
       "(150,)"
      ]
     },
     "execution_count": 10,
     "metadata": {},
     "output_type": "execute_result"
    }
   ],
   "source": [
    "y = data.target  #  collecting the number represatation of the independent values\n",
    "y.shape      #check the shape"
   ]
  },
  {
   "cell_type": "code",
   "execution_count": 11,
   "id": "09d48442",
   "metadata": {},
   "outputs": [
    {
     "data": {
      "text/plain": [
       "(150, 1)"
      ]
     },
     "execution_count": 11,
     "metadata": {},
     "output_type": "execute_result"
    }
   ],
   "source": [
    "# because sklearn doesn't like 1D arrays or vectors we're going to reshape it\n",
    "y = y.reshape(-1, 1)\n",
    "y.shape               # get it to 2D"
   ]
  },
  {
   "cell_type": "markdown",
   "id": "8f409df8",
   "metadata": {},
   "source": [
    "#### Let us plot the lenght of sepal and petal to check if the data is linear."
   ]
  },
  {
   "cell_type": "code",
   "execution_count": 12,
   "id": "5640849d",
   "metadata": {},
   "outputs": [
    {
     "data": {
      "text/plain": [
       "Text(0.5, 0, 'sepal length')"
      ]
     },
     "execution_count": 12,
     "metadata": {},
     "output_type": "execute_result"
    },
    {
     "data": {
      "image/png": "[encoded data removed]",
      "text/plain": [
       "<Figure size 1800x800 with 1 Axes>"
      ]
     },
     "metadata": {},
     "output_type": "display_data"
    }
   ],
   "source": [
    "plt.figure(figsize=(18,8),dpi=100)   #set the canvas size for visibility\n",
    "\n",
    "plt.scatter(X.T[0],X.T[2])   #over here I use the T ndarray method to transpose the data then get columns at index 0 and 2\n",
    "plt.title('IRIS Petal and sepal length', fontsize=20) # set the title of the plot and adjust my font size for readability\n",
    "\n",
    "#then we set the label (just to be obvious)\n",
    "plt.ylabel('Petal Length') \n",
    "plt.xlabel('sepal length')"
   ]
  },
  {
   "cell_type": "markdown",
   "id": "403ddf0c",
   "metadata": {},
   "source": [
    "# Doing Prediction"
   ]
  },
  {
   "cell_type": "markdown",
   "id": "297df765",
   "metadata": {},
   "source": [
    "We're going to take this simple steps to predict the hourlywage of a person\n",
    "\n",
    "    - split the data using the train_test_split() method from skitlearn\n",
    "    \n",
    "    - build the model and fit (train) it using our train data\n",
    "    \n",
    "    - generate prediction"
   ]
  },
  {
   "cell_type": "code",
   "execution_count": 32,
   "id": "0130b712",
   "metadata": {},
   "outputs": [],
   "source": [
    "from sklearn.model_selection import train_test_split    #the tool for split the data \n",
    "from sklearn.linear_model import  LinearRegression      #and because we know we going to use linear regression for our prediction we import the class as well \n",
    "\n",
    "\n",
    "#over here we split the data. into the x&y trainer and y&x tester\n",
    "X_train,X_test,y_train,y_test = train_test_split(X,y, test_size = 0.20) "
   ]
  },
  {
   "cell_type": "code",
   "execution_count": 33,
   "id": "2ab6e02c",
   "metadata": {},
   "outputs": [],
   "source": [
    "lr = LinearRegression()        #create our linear model\n",
    "\n",
    "#fitting the model on the training data and try to predict the X_test\n",
    "iris_model = lr.fit(X_train, y_train)\n",
    "predictions = iris_model.predict(X_test)"
   ]
  },
  {
   "cell_type": "code",
   "execution_count": 34,
   "id": "68bb278b",
   "metadata": {},
   "outputs": [
    {
     "name": "stdout",
     "output_type": "stream",
     "text": [
      "Coefficients: \n",
      " [[-0.06901679 -0.08520148  0.16293323  0.70239844]]\n"
     ]
    }
   ],
   "source": [
    "# The coefficients for sepal length, sepal width, petal length, petal width\n",
    "print('Coefficients: \\n', iris_model.coef_)"
   ]
  },
  {
   "cell_type": "code",
   "execution_count": 35,
   "id": "c4bdbe89",
   "metadata": {},
   "outputs": [],
   "source": [
    "#write comment/interpretation on the output of the previous line\n",
    "# The coefficients here are used to multiply towards the values for prediction."
   ]
  },
  {
   "cell_type": "code",
   "execution_count": 36,
   "id": "7e5c0af9",
   "metadata": {},
   "outputs": [
    {
     "data": {
      "text/plain": [
       "array([[ 2.07857   ],\n",
       "       [ 2.1460166 ],\n",
       "       [ 1.51553071],\n",
       "       [ 1.161836  ],\n",
       "       [ 1.52120338],\n",
       "       [ 1.59096162],\n",
       "       [ 1.9695888 ],\n",
       "       [ 1.26243747],\n",
       "       [-0.0673345 ],\n",
       "       [ 1.26112228],\n",
       "       [-0.1639739 ],\n",
       "       [ 1.7387922 ],\n",
       "       [ 1.15397621],\n",
       "       [ 0.11176202],\n",
       "       [ 1.91101391],\n",
       "       [ 1.65949638],\n",
       "       [ 1.23474457],\n",
       "       [ 1.27999219],\n",
       "       [-0.01665731],\n",
       "       [ 1.17860541],\n",
       "       [ 0.01064613],\n",
       "       [ 1.74476815],\n",
       "       [ 1.29772522],\n",
       "       [ 0.90229074],\n",
       "       [ 1.58156998],\n",
       "       [ 1.63735163],\n",
       "       [ 1.4581361 ],\n",
       "       [ 1.12981758],\n",
       "       [ 1.16489419],\n",
       "       [-0.08278871]])"
      ]
     },
     "execution_count": 36,
     "metadata": {},
     "output_type": "execute_result"
    }
   ],
   "source": [
    "predictions"
   ]
  },
  {
   "cell_type": "code",
   "execution_count": 37,
   "id": "1b9a2866",
   "metadata": {},
   "outputs": [],
   "source": [
    "#write comment/interpretation on the output of the previous line\n",
    "# the numbers above are the predictions for the X_test which are used to compare to the Y_Test to test the accuracy of the model"
   ]
  },
  {
   "cell_type": "code",
   "execution_count": 38,
   "id": "a6128445",
   "metadata": {},
   "outputs": [
    {
     "data": {
      "text/plain": [
       "0.8753605432942081"
      ]
     },
     "execution_count": 38,
     "metadata": {},
     "output_type": "execute_result"
    }
   ],
   "source": [
    "from sklearn.metrics import r2_score   #class will help us to calculate and see the score of our predictions\n",
    "\n",
    "r2_score(y_test, predictions)"
   ]
  },
  {
   "cell_type": "code",
   "execution_count": 39,
   "id": "20875eff",
   "metadata": {},
   "outputs": [],
   "source": [
    "#write comment/interpretation on the output of the previous line\n",
    "# with a score of 87.5%, this can be interpreted as the regression model is good in simulating the data."
   ]
  },
  {
   "cell_type": "code",
   "execution_count": 40,
   "id": "6cd9cfb9",
   "metadata": {},
   "outputs": [
    {
     "data": {
      "text/plain": [
       "0.26419329241152867"
      ]
     },
     "execution_count": 40,
     "metadata": {},
     "output_type": "execute_result"
    }
   ],
   "source": [
    "#to get the RMSE we first get the distance between the y_test and the prediction then we elavated it to the power of **2 \n",
    "#after we get the average number and finally use the numpy square root function.\n",
    "np.sqrt(((predictions - y_test)**2).mean()) "
   ]
  },
  {
   "cell_type": "code",
   "execution_count": 22,
   "id": "37039f0d",
   "metadata": {},
   "outputs": [],
   "source": [
    "#write comment/interpretation on the output of the previous line\n",
    "# with the RMSE having a value of below 1, or 0.26, this would mean that the predictions are close to the true values"
   ]
  },
  {
   "cell_type": "markdown",
   "id": "04242664",
   "metadata": {},
   "source": [
    "### Conclusion"
   ]
  },
  {
   "cell_type": "code",
   "execution_count": null,
   "id": "6813242e",
   "metadata": {},
   "outputs": [],
   "source": [
    "#write your take-aways in this activity\n",
    "# This activity has revealed how to create a scatterplot but more importantly how to use linear regression model\n",
    "# These creates a model, finds predictions and tests them to see how accurate they are and how close to the ture values\n",
    "# the predictions are"
   ]
  }
 ],
 "metadata": {
  "kernelspec": {
   "display_name": "Python 3 (ipykernel)",
   "language": "python",
   "name": "python3"
  },
  "language_info": {
   "codemirror_mode": {
    "name": "ipython",
    "version": 3
   },
   "file_extension": ".py",
   "mimetype": "text/x-python",
   "name": "python",
   "nbconvert_exporter": "python",
   "pygments_lexer": "ipython3",
   "version": "3.9.13"
  }
 },
 "nbformat": 4,
 "nbformat_minor": 5
}

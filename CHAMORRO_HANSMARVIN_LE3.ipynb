{
 "cells": [
  {
   "cell_type": "code",
   "execution_count": 14,
   "id": "eb75f860",
   "metadata": {},
   "outputs": [
    {
     "name": "stdout",
     "output_type": "stream",
     "text": [
      "Enter your annual salary:75000\n",
      "Enter the percent of your salary to save, as a decimal:0.05\n",
      "Enter the cost of your dream home:1500000\n",
      "Enter the semiannual raise, as a decimal:0.05\n",
      "Number of months:  261\n"
     ]
    }
   ],
   "source": [
    "annual_salary = float(input('Enter your annual salary:'))\n",
    "portion_saved = float(input('Enter the percent of your salary to save, as a decimal:'))\n",
    "total_cost = float(input('Enter the cost of your dream home:'))\n",
    "semi_annual_raise = float(input('Enter the semiannual raise, as a decimal:'))\n",
    "\n",
    "current_savings = 0\n",
    "portion_down_payment = 0.25 * total_cost\n",
    "r = 0.04\n",
    "monthly_salary = annual_salary/12\n",
    "Time = 0\n",
    "\n",
    "while current_savings < portion_down_payment:\n",
    "    current_savings += (annual_salary/12)*portion_saved + current_savings*(r/12)\n",
    "    Time += 1\n",
    "    if Time%6 == 0:\n",
    "        annual_salary += annual_salary * semi_annual_raise\n",
    "\n",
    "print(\"Number of months:\", Time)"
   ]
  },
  {
   "cell_type": "code",
   "execution_count": null,
   "id": "fb12d858",
   "metadata": {},
   "outputs": [],
   "source": []
  }
 ],
 "metadata": {
  "kernelspec": {
   "display_name": "Python 3 (ipykernel)",
   "language": "python",
   "name": "python3"
  },
  "language_info": {
   "codemirror_mode": {
    "name": "ipython",
    "version": 3
   },
   "file_extension": ".py",
   "mimetype": "text/x-python",
   "name": "python",
   "nbconvert_exporter": "python",
   "pygments_lexer": "ipython3",
   "version": "3.9.13"
  }
 },
 "nbformat": 4,
 "nbformat_minor": 5
}

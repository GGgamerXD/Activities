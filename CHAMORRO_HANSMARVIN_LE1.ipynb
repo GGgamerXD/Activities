{
 "cells": [
  {
   "cell_type": "code",
   "execution_count": 4,
   "id": "1979ce56",
   "metadata": {},
   "outputs": [
    {
     "name": "stdout",
     "output_type": "stream",
     "text": [
      "Please input x:4\n",
      "Please input y:5\n",
      "x**y =  1024\n",
      "log(x) =  2.0\n"
     ]
    }
   ],
   "source": [
    "import math\n",
    "x = int(input('Please input x:'))\n",
    "y = int(input('Please input y:'))\n",
    "xy = x**y\n",
    "LogX = math.log2(x)\n",
    "print('x**y = ', xy)\n",
    "print('log(x) = ', LogX)"
   ]
  },
  {
   "cell_type": "code",
   "execution_count": null,
   "id": "6d9f3f53",
   "metadata": {},
   "outputs": [],
   "source": []
  }
 ],
 "metadata": {
  "kernelspec": {
   "display_name": "Python 3 (ipykernel)",
   "language": "python",
   "name": "python3"
  },
  "language_info": {
   "codemirror_mode": {
    "name": "ipython",
    "version": 3
   },
   "file_extension": ".py",
   "mimetype": "text/x-python",
   "name": "python",
   "nbconvert_exporter": "python",
   "pygments_lexer": "ipython3",
   "version": "3.9.13"
  }
 },
 "nbformat": 4,
 "nbformat_minor": 5
}
